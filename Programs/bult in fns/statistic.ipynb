{
 "cells": [
  {
   "cell_type": "code",
   "execution_count": 7,
   "id": "6f2ac08a",
   "metadata": {},
   "outputs": [
    {
     "name": "stdout",
     "output_type": "stream",
     "text": [
      "3\n",
      "3\n",
      "1\n",
      "[1, 2, 3]\n"
     ]
    }
   ],
   "source": [
    "import statistics as st\n",
    "\n",
    "values = [1,2,3,4,5]\n",
    "print(st.mean(values))\n",
    "print(st.median(values))\n",
    "print(st.mode([1,2,3,1,1,4,3,2,3,2]))\n",
    "print(st.multimode([1,2,3,1,1,4,3,2,3,2]))"
   ]
  }
 ],
 "metadata": {
  "kernelspec": {
   "display_name": "Python (AI-ML-DS)",
   "language": "python",
   "name": "ai-ml-ds"
  },
  "language_info": {
   "codemirror_mode": {
    "name": "ipython",
    "version": 3
   },
   "file_extension": ".py",
   "mimetype": "text/x-python",
   "name": "python",
   "nbconvert_exporter": "python",
   "pygments_lexer": "ipython3",
   "version": "3.11.13"
  }
 },
 "nbformat": 4,
 "nbformat_minor": 5
}
