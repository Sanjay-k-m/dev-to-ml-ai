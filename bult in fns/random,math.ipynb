{
 "cells": [
  {
   "cell_type": "markdown",
   "id": "9a808156",
   "metadata": {},
   "source": [
    "random funcion "
   ]
  },
  {
   "cell_type": "code",
   "execution_count": 59,
   "id": "c3e470cb",
   "metadata": {},
   "outputs": [
    {
     "name": "stdout",
     "output_type": "stream",
     "text": [
      "0.8357934508725431\n",
      "76\n",
      "3\n",
      "12.68435979877206\n",
      "['white', 'red']\n",
      "['green', 'white']\n"
     ]
    }
   ],
   "source": [
    "import random as rd\n",
    "\n",
    "print(rd.random())\n",
    "print(rd.randint(0,100))\n",
    "print(rd.choice([1,2,3]))\n",
    "print(rd.uniform(1,29))\n",
    "print(rd.choices(['red','green','white','yellow','darkgreen'],k=2))\n",
    "print(rd.choices(['red','green','white','yellow','darkgreen'],k=2,weights=[15,40,35,30,55]))"
   ]
  },
  {
   "cell_type": "markdown",
   "id": "d2564f46",
   "metadata": {},
   "source": [
    "sample and choies are actually same funciontlity but the difference is actually when use choices there is a chance for getting same value like repeated value but when using sample there will not be any repeated value"
   ]
  },
  {
   "cell_type": "code",
   "execution_count": 61,
   "id": "895f93d9",
   "metadata": {},
   "outputs": [
    {
     "name": "stdout",
     "output_type": "stream",
     "text": [
      "[3, 18]\n"
     ]
    }
   ],
   "source": [
    "ls = list(range(0,21))\n",
    "\n",
    "print(rd.sample(ls,k=2))"
   ]
  },
  {
   "cell_type": "markdown",
   "id": "2b3cb3b7",
   "metadata": {},
   "source": [
    "lottery Ticket"
   ]
  },
  {
   "cell_type": "code",
   "execution_count": null,
   "id": "edcddf16",
   "metadata": {},
   "outputs": [
    {
     "name": "stdout",
     "output_type": "stream",
     "text": [
      "creating  100 tickets\n",
      "finding winners ...\n",
      "the winners are ... [562878, 284756]\n"
     ]
    }
   ],
   "source": [
    "import random\n",
    "from time import sleep\n",
    "\n",
    "lottery_ticket = []\n",
    "print(\"creating  100 tickets\")\n",
    "sleep(2)\n",
    "for i in range(100):\n",
    "    lottery_ticket.append(random.randrange(100000,999999))\n",
    "v = random.sample(lottery_ticket,k=2)\n",
    "print('finding winners ...')\n",
    "sleep(5)\n",
    "print(f'the winners are ... {v}')"
   ]
  },
  {
   "cell_type": "markdown",
   "id": "f0621f77",
   "metadata": {},
   "source": [
    "is instance checking built in function"
   ]
  },
  {
   "cell_type": "code",
   "execution_count": null,
   "id": "37abe50c",
   "metadata": {},
   "outputs": [
    {
     "name": "stdout",
     "output_type": "stream",
     "text": [
      "True\n",
      "True\n",
      "False\n",
      "True\n",
      "False\n"
     ]
    }
   ],
   "source": [
    "x = isinstance(1,int)\n",
    "print(x)\n",
    "\n",
    "\n",
    "x = isinstance('sanju',str)\n",
    "print(x)\n",
    "\n",
    "x = isinstance(1,str)\n",
    "print(x)\n",
    "\n",
    "\n",
    "print(isinstance(1,(str,int,tuple)))\n",
    "print(isinstance(1,(str,tuple,list,dict)))"
   ]
  },
  {
   "cell_type": "code",
   "execution_count": 10,
   "id": "f3bf0501",
   "metadata": {},
   "outputs": [
    {
     "name": "stdout",
     "output_type": "stream",
     "text": [
      "True\n"
     ]
    }
   ],
   "source": [
    "class employee:\n",
    "    pass\n",
    "emp = employee()\n",
    "print(isinstance(emp,employee))"
   ]
  },
  {
   "cell_type": "code",
   "execution_count": 14,
   "id": "7009da11",
   "metadata": {},
   "outputs": [
    {
     "name": "stdout",
     "output_type": "stream",
     "text": [
      "False\n",
      "True\n",
      "True\n",
      "False\n"
     ]
    }
   ],
   "source": [
    "a = [False,False,False]\n",
    "b =[True,True,True]\n",
    "\n",
    "print(any(a))\n",
    "print(all(b))\n",
    "\n",
    "a=['hello','hai','']\n",
    "\n",
    "print(any(a))\n",
    "print(all(a))"
   ]
  },
  {
   "cell_type": "code",
   "execution_count": 24,
   "id": "bca51caa",
   "metadata": {},
   "outputs": [
    {
     "name": "stdout",
     "output_type": "stream",
     "text": [
      "11\n",
      "11.234\n",
      "11\n",
      "11.23\n",
      "23\n",
      "123132\n",
      "10000\n",
      "a\n"
     ]
    }
   ],
   "source": [
    "print(abs(-11))\n",
    "print(abs(-11.234))\n",
    "print(round(11.21))\n",
    "print(round(11.23123,2))\n",
    "print(min([1111,23,123123,123132,2123]))\n",
    "print(max([1111,23,123123,123132,2123]))\n",
    "print(min(['a','10000','@'])) #ascii\n",
    "print(max(['a','10000','@'])) #ascii"
   ]
  },
  {
   "cell_type": "code",
   "execution_count": 26,
   "id": "ca0e081a",
   "metadata": {},
   "outputs": [
    {
     "name": "stdout",
     "output_type": "stream",
     "text": [
      "6\n",
      "5\n",
      "0.12000000000000455\n",
      "122.0\n"
     ]
    }
   ],
   "source": [
    "import math\n",
    "print(math.ceil(5.6))\n",
    "print(math.floor(5.6))\n",
    "a,b = math.modf(122.12)\n",
    "print(a)\n",
    "print(b)"
   ]
  },
  {
   "cell_type": "markdown",
   "id": "bf089994",
   "metadata": {},
   "source": []
  }
 ],
 "metadata": {
  "kernelspec": {
   "display_name": "Python (AI-ML-DS)",
   "language": "python",
   "name": "ai-ml-ds"
  },
  "language_info": {
   "codemirror_mode": {
    "name": "ipython",
    "version": 3
   },
   "file_extension": ".py",
   "mimetype": "text/x-python",
   "name": "python",
   "nbconvert_exporter": "python",
   "pygments_lexer": "ipython3",
   "version": "3.11.13"
  }
 },
 "nbformat": 4,
 "nbformat_minor": 5
}
