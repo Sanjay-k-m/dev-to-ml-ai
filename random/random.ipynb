{
 "cells": [
  {
   "cell_type": "markdown",
   "id": "9a808156",
   "metadata": {},
   "source": [
    "random funcion "
   ]
  },
  {
   "cell_type": "code",
   "execution_count": null,
   "id": "c3e470cb",
   "metadata": {},
   "outputs": [
    {
     "name": "stdout",
     "output_type": "stream",
     "text": [
      "0.2293832633133308\n",
      "66\n",
      "1\n",
      "15.74371614668635\n"
     ]
    }
   ],
   "source": [
    "import random as rd\n",
    "\n",
    "print(rd.random())\n",
    "print(rd.randint(0,100))\n",
    "print(rd.choice([1,2,3]))\n",
    "print(rd.uniform(1,29))\n",
    "print(rd.choices(['red','green','white','yellow','darkgreen'],k=2))"
   ]
  }
 ],
 "metadata": {
  "kernelspec": {
   "display_name": "Python (AI-ML-DS)",
   "language": "python",
   "name": "ai-ml-ds"
  },
  "language_info": {
   "codemirror_mode": {
    "name": "ipython",
    "version": 3
   },
   "file_extension": ".py",
   "mimetype": "text/x-python",
   "name": "python",
   "nbconvert_exporter": "python",
   "pygments_lexer": "ipython3",
   "version": "3.11.13"
  }
 },
 "nbformat": 4,
 "nbformat_minor": 5
}
