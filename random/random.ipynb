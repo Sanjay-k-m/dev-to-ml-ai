{
 "cells": [
  {
   "cell_type": "markdown",
   "id": "9a808156",
   "metadata": {},
   "source": [
    "random funcion "
   ]
  },
  {
   "cell_type": "code",
   "execution_count": 59,
   "id": "c3e470cb",
   "metadata": {},
   "outputs": [
    {
     "name": "stdout",
     "output_type": "stream",
     "text": [
      "0.8357934508725431\n",
      "76\n",
      "3\n",
      "12.68435979877206\n",
      "['white', 'red']\n",
      "['green', 'white']\n"
     ]
    }
   ],
   "source": [
    "import random as rd\n",
    "\n",
    "print(rd.random())\n",
    "print(rd.randint(0,100))\n",
    "print(rd.choice([1,2,3]))\n",
    "print(rd.uniform(1,29))\n",
    "print(rd.choices(['red','green','white','yellow','darkgreen'],k=2))\n",
    "print(rd.choices(['red','green','white','yellow','darkgreen'],k=2,weights=[15,40,35,30,55]))"
   ]
  },
  {
   "cell_type": "markdown",
   "id": "d2564f46",
   "metadata": {},
   "source": [
    "sample and choies are actually same funciontlity but the difference is actually when use choices there is a chance for getting same value like repeated value but when using sample there will not be any repeated value"
   ]
  },
  {
   "cell_type": "code",
   "execution_count": 61,
   "id": "895f93d9",
   "metadata": {},
   "outputs": [
    {
     "name": "stdout",
     "output_type": "stream",
     "text": [
      "[3, 18]\n"
     ]
    }
   ],
   "source": [
    "ls = list(range(0,21))\n",
    "\n",
    "print(rd.sample(ls,k=2))"
   ]
  }
 ],
 "metadata": {
  "kernelspec": {
   "display_name": "Python (AI-ML-DS)",
   "language": "python",
   "name": "ai-ml-ds"
  },
  "language_info": {
   "codemirror_mode": {
    "name": "ipython",
    "version": 3
   },
   "file_extension": ".py",
   "mimetype": "text/x-python",
   "name": "python",
   "nbconvert_exporter": "python",
   "pygments_lexer": "ipython3",
   "version": "3.11.13"
  }
 },
 "nbformat": 4,
 "nbformat_minor": 5
}
